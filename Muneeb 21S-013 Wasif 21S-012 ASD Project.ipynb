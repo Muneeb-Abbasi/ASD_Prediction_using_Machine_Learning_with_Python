{
 "cells": [
  {
   "cell_type": "code",
   "execution_count": 3,
   "id": "54e61038",
   "metadata": {},
   "outputs": [
    {
     "name": "stderr",
     "output_type": "stream",
     "text": [
      "D:\\Anaconda\\lib\\site-packages\\numpy\\_distributor_init.py:30: UserWarning: loaded more than 1 DLL from .libs:\n",
      "D:\\Anaconda\\lib\\site-packages\\numpy\\.libs\\libopenblas.FB5AE2TYXYH2IJRDKGDGQ3XBKLKTF43H.gfortran-win_amd64.dll\n",
      "D:\\Anaconda\\lib\\site-packages\\numpy\\.libs\\libopenblas64__v0.3.21-gcc_10_3_0.dll\n",
      "  warnings.warn(\"loaded more than 1 DLL from .libs:\"\n"
     ]
    }
   ],
   "source": [
    "from sklearn.model_selection import train_test_split\n",
    "import pandas as pd\n",
    "import matplotlib.pyplot as plt\n",
    "import seaborn as sns\n",
    "from sklearn.preprocessing import LabelEncoder\n",
    "from sklearn.ensemble import RandomForestClassifier\n",
    "from sklearn.naive_bayes import GaussianNB\n",
    "from sklearn.metrics import accuracy_score, classification_report, confusion_matrix\n",
    "from sklearn.neighbors import KNeighborsClassifier\n",
    "from sklearn.metrics import accuracy_score\n",
    "from sklearn.svm import SVC\n",
    "from sklearn.tree import DecisionTreeClassifier\n",
    "from sklearn.linear_model import LogisticRegression\n",
    "from sklearn.linear_model import RidgeClassifier\n"
   ]
  },
  {
   "cell_type": "code",
   "execution_count": 4,
   "id": "452e757c",
   "metadata": {},
   "outputs": [],
   "source": [
    "df = pd.read_csv(\"D:\\\\Autism_Data.arff\")"
   ]
  },
  {
   "cell_type": "code",
   "execution_count": 5,
   "id": "5a1943af",
   "metadata": {},
   "outputs": [
    {
     "data": {
      "text/html": [
       "<div>\n",
       "<style scoped>\n",
       "    .dataframe tbody tr th:only-of-type {\n",
       "        vertical-align: middle;\n",
       "    }\n",
       "\n",
       "    .dataframe tbody tr th {\n",
       "        vertical-align: top;\n",
       "    }\n",
       "\n",
       "    .dataframe thead th {\n",
       "        text-align: right;\n",
       "    }\n",
       "</style>\n",
       "<table border=\"1\" class=\"dataframe\">\n",
       "  <thead>\n",
       "    <tr style=\"text-align: right;\">\n",
       "      <th></th>\n",
       "      <th>A1_Score</th>\n",
       "      <th>A2_Score</th>\n",
       "      <th>A3_Score</th>\n",
       "      <th>A4_Score</th>\n",
       "      <th>A5_Score</th>\n",
       "      <th>A6_Score</th>\n",
       "      <th>A7_Score</th>\n",
       "      <th>A8_Score</th>\n",
       "      <th>A9_Score</th>\n",
       "      <th>A10_Score</th>\n",
       "      <th>...</th>\n",
       "      <th>gender</th>\n",
       "      <th>ethnicity</th>\n",
       "      <th>jundice</th>\n",
       "      <th>austim</th>\n",
       "      <th>contry_of_res</th>\n",
       "      <th>used_app_before</th>\n",
       "      <th>result</th>\n",
       "      <th>age_desc</th>\n",
       "      <th>relation</th>\n",
       "      <th>Class/ASD</th>\n",
       "    </tr>\n",
       "  </thead>\n",
       "  <tbody>\n",
       "    <tr>\n",
       "      <th>0</th>\n",
       "      <td>1</td>\n",
       "      <td>1</td>\n",
       "      <td>1</td>\n",
       "      <td>1</td>\n",
       "      <td>0</td>\n",
       "      <td>0</td>\n",
       "      <td>1</td>\n",
       "      <td>1</td>\n",
       "      <td>0</td>\n",
       "      <td>0</td>\n",
       "      <td>...</td>\n",
       "      <td>f</td>\n",
       "      <td>White-European</td>\n",
       "      <td>no</td>\n",
       "      <td>no</td>\n",
       "      <td>'United States'</td>\n",
       "      <td>no</td>\n",
       "      <td>6</td>\n",
       "      <td>'18 and more'</td>\n",
       "      <td>Self</td>\n",
       "      <td>NO</td>\n",
       "    </tr>\n",
       "    <tr>\n",
       "      <th>1</th>\n",
       "      <td>1</td>\n",
       "      <td>1</td>\n",
       "      <td>0</td>\n",
       "      <td>1</td>\n",
       "      <td>0</td>\n",
       "      <td>0</td>\n",
       "      <td>0</td>\n",
       "      <td>1</td>\n",
       "      <td>0</td>\n",
       "      <td>1</td>\n",
       "      <td>...</td>\n",
       "      <td>m</td>\n",
       "      <td>Latino</td>\n",
       "      <td>no</td>\n",
       "      <td>yes</td>\n",
       "      <td>Brazil</td>\n",
       "      <td>no</td>\n",
       "      <td>5</td>\n",
       "      <td>'18 and more'</td>\n",
       "      <td>Self</td>\n",
       "      <td>NO</td>\n",
       "    </tr>\n",
       "    <tr>\n",
       "      <th>2</th>\n",
       "      <td>1</td>\n",
       "      <td>1</td>\n",
       "      <td>0</td>\n",
       "      <td>1</td>\n",
       "      <td>1</td>\n",
       "      <td>0</td>\n",
       "      <td>1</td>\n",
       "      <td>1</td>\n",
       "      <td>1</td>\n",
       "      <td>1</td>\n",
       "      <td>...</td>\n",
       "      <td>m</td>\n",
       "      <td>Latino</td>\n",
       "      <td>yes</td>\n",
       "      <td>yes</td>\n",
       "      <td>Spain</td>\n",
       "      <td>no</td>\n",
       "      <td>8</td>\n",
       "      <td>'18 and more'</td>\n",
       "      <td>Parent</td>\n",
       "      <td>YES</td>\n",
       "    </tr>\n",
       "    <tr>\n",
       "      <th>3</th>\n",
       "      <td>1</td>\n",
       "      <td>1</td>\n",
       "      <td>0</td>\n",
       "      <td>1</td>\n",
       "      <td>0</td>\n",
       "      <td>0</td>\n",
       "      <td>1</td>\n",
       "      <td>1</td>\n",
       "      <td>0</td>\n",
       "      <td>1</td>\n",
       "      <td>...</td>\n",
       "      <td>f</td>\n",
       "      <td>White-European</td>\n",
       "      <td>no</td>\n",
       "      <td>yes</td>\n",
       "      <td>'United States'</td>\n",
       "      <td>no</td>\n",
       "      <td>6</td>\n",
       "      <td>'18 and more'</td>\n",
       "      <td>Self</td>\n",
       "      <td>NO</td>\n",
       "    </tr>\n",
       "    <tr>\n",
       "      <th>4</th>\n",
       "      <td>1</td>\n",
       "      <td>0</td>\n",
       "      <td>0</td>\n",
       "      <td>0</td>\n",
       "      <td>0</td>\n",
       "      <td>0</td>\n",
       "      <td>0</td>\n",
       "      <td>1</td>\n",
       "      <td>0</td>\n",
       "      <td>0</td>\n",
       "      <td>...</td>\n",
       "      <td>f</td>\n",
       "      <td>?</td>\n",
       "      <td>no</td>\n",
       "      <td>no</td>\n",
       "      <td>Egypt</td>\n",
       "      <td>no</td>\n",
       "      <td>2</td>\n",
       "      <td>'18 and more'</td>\n",
       "      <td>?</td>\n",
       "      <td>NO</td>\n",
       "    </tr>\n",
       "  </tbody>\n",
       "</table>\n",
       "<p>5 rows × 21 columns</p>\n",
       "</div>"
      ],
      "text/plain": [
       "   A1_Score  A2_Score  A3_Score  A4_Score  A5_Score  A6_Score  A7_Score  \\\n",
       "0         1         1         1         1         0         0         1   \n",
       "1         1         1         0         1         0         0         0   \n",
       "2         1         1         0         1         1         0         1   \n",
       "3         1         1         0         1         0         0         1   \n",
       "4         1         0         0         0         0         0         0   \n",
       "\n",
       "   A8_Score  A9_Score  A10_Score  ... gender       ethnicity jundice austim  \\\n",
       "0         1         0          0  ...      f  White-European      no     no   \n",
       "1         1         0          1  ...      m          Latino      no    yes   \n",
       "2         1         1          1  ...      m          Latino     yes    yes   \n",
       "3         1         0          1  ...      f  White-European      no    yes   \n",
       "4         1         0          0  ...      f               ?      no     no   \n",
       "\n",
       "     contry_of_res used_app_before result       age_desc relation Class/ASD  \n",
       "0  'United States'              no      6  '18 and more'     Self        NO  \n",
       "1           Brazil              no      5  '18 and more'     Self        NO  \n",
       "2            Spain              no      8  '18 and more'   Parent       YES  \n",
       "3  'United States'              no      6  '18 and more'     Self        NO  \n",
       "4            Egypt              no      2  '18 and more'        ?        NO  \n",
       "\n",
       "[5 rows x 21 columns]"
      ]
     },
     "execution_count": 5,
     "metadata": {},
     "output_type": "execute_result"
    }
   ],
   "source": [
    "df.head()"
   ]
  },
  {
   "cell_type": "code",
   "execution_count": 6,
   "id": "65650395",
   "metadata": {},
   "outputs": [
    {
     "data": {
      "text/plain": [
       "A1_Score           0\n",
       "A2_Score           0\n",
       "A3_Score           0\n",
       "A4_Score           0\n",
       "A5_Score           0\n",
       "A6_Score           0\n",
       "A7_Score           0\n",
       "A8_Score           0\n",
       "A9_Score           0\n",
       "A10_Score          0\n",
       "age                0\n",
       "gender             0\n",
       "ethnicity          0\n",
       "jundice            0\n",
       "austim             0\n",
       "contry_of_res      0\n",
       "used_app_before    0\n",
       "result             0\n",
       "age_desc           0\n",
       "relation           0\n",
       "Class/ASD          0\n",
       "dtype: int64"
      ]
     },
     "execution_count": 6,
     "metadata": {},
     "output_type": "execute_result"
    }
   ],
   "source": [
    "df.isnull().sum()"
   ]
  },
  {
   "cell_type": "code",
   "execution_count": 7,
   "id": "6fbc9694",
   "metadata": {},
   "outputs": [
    {
     "data": {
      "text/html": [
       "<div>\n",
       "<style scoped>\n",
       "    .dataframe tbody tr th:only-of-type {\n",
       "        vertical-align: middle;\n",
       "    }\n",
       "\n",
       "    .dataframe tbody tr th {\n",
       "        vertical-align: top;\n",
       "    }\n",
       "\n",
       "    .dataframe thead th {\n",
       "        text-align: right;\n",
       "    }\n",
       "</style>\n",
       "<table border=\"1\" class=\"dataframe\">\n",
       "  <thead>\n",
       "    <tr style=\"text-align: right;\">\n",
       "      <th></th>\n",
       "      <th>A1_Score</th>\n",
       "      <th>A2_Score</th>\n",
       "      <th>A3_Score</th>\n",
       "      <th>A4_Score</th>\n",
       "      <th>A5_Score</th>\n",
       "      <th>A6_Score</th>\n",
       "      <th>A7_Score</th>\n",
       "      <th>A8_Score</th>\n",
       "      <th>A9_Score</th>\n",
       "      <th>A10_Score</th>\n",
       "      <th>result</th>\n",
       "    </tr>\n",
       "  </thead>\n",
       "  <tbody>\n",
       "    <tr>\n",
       "      <th>count</th>\n",
       "      <td>704.000000</td>\n",
       "      <td>704.000000</td>\n",
       "      <td>704.000000</td>\n",
       "      <td>704.000000</td>\n",
       "      <td>704.000000</td>\n",
       "      <td>704.000000</td>\n",
       "      <td>704.000000</td>\n",
       "      <td>704.000000</td>\n",
       "      <td>704.000000</td>\n",
       "      <td>704.000000</td>\n",
       "      <td>704.000000</td>\n",
       "    </tr>\n",
       "    <tr>\n",
       "      <th>mean</th>\n",
       "      <td>0.721591</td>\n",
       "      <td>0.453125</td>\n",
       "      <td>0.457386</td>\n",
       "      <td>0.495739</td>\n",
       "      <td>0.498580</td>\n",
       "      <td>0.284091</td>\n",
       "      <td>0.417614</td>\n",
       "      <td>0.649148</td>\n",
       "      <td>0.323864</td>\n",
       "      <td>0.573864</td>\n",
       "      <td>4.875000</td>\n",
       "    </tr>\n",
       "    <tr>\n",
       "      <th>std</th>\n",
       "      <td>0.448535</td>\n",
       "      <td>0.498152</td>\n",
       "      <td>0.498535</td>\n",
       "      <td>0.500337</td>\n",
       "      <td>0.500353</td>\n",
       "      <td>0.451301</td>\n",
       "      <td>0.493516</td>\n",
       "      <td>0.477576</td>\n",
       "      <td>0.468281</td>\n",
       "      <td>0.494866</td>\n",
       "      <td>2.501493</td>\n",
       "    </tr>\n",
       "    <tr>\n",
       "      <th>min</th>\n",
       "      <td>0.000000</td>\n",
       "      <td>0.000000</td>\n",
       "      <td>0.000000</td>\n",
       "      <td>0.000000</td>\n",
       "      <td>0.000000</td>\n",
       "      <td>0.000000</td>\n",
       "      <td>0.000000</td>\n",
       "      <td>0.000000</td>\n",
       "      <td>0.000000</td>\n",
       "      <td>0.000000</td>\n",
       "      <td>0.000000</td>\n",
       "    </tr>\n",
       "    <tr>\n",
       "      <th>25%</th>\n",
       "      <td>0.000000</td>\n",
       "      <td>0.000000</td>\n",
       "      <td>0.000000</td>\n",
       "      <td>0.000000</td>\n",
       "      <td>0.000000</td>\n",
       "      <td>0.000000</td>\n",
       "      <td>0.000000</td>\n",
       "      <td>0.000000</td>\n",
       "      <td>0.000000</td>\n",
       "      <td>0.000000</td>\n",
       "      <td>3.000000</td>\n",
       "    </tr>\n",
       "    <tr>\n",
       "      <th>50%</th>\n",
       "      <td>1.000000</td>\n",
       "      <td>0.000000</td>\n",
       "      <td>0.000000</td>\n",
       "      <td>0.000000</td>\n",
       "      <td>0.000000</td>\n",
       "      <td>0.000000</td>\n",
       "      <td>0.000000</td>\n",
       "      <td>1.000000</td>\n",
       "      <td>0.000000</td>\n",
       "      <td>1.000000</td>\n",
       "      <td>4.000000</td>\n",
       "    </tr>\n",
       "    <tr>\n",
       "      <th>75%</th>\n",
       "      <td>1.000000</td>\n",
       "      <td>1.000000</td>\n",
       "      <td>1.000000</td>\n",
       "      <td>1.000000</td>\n",
       "      <td>1.000000</td>\n",
       "      <td>1.000000</td>\n",
       "      <td>1.000000</td>\n",
       "      <td>1.000000</td>\n",
       "      <td>1.000000</td>\n",
       "      <td>1.000000</td>\n",
       "      <td>7.000000</td>\n",
       "    </tr>\n",
       "    <tr>\n",
       "      <th>max</th>\n",
       "      <td>1.000000</td>\n",
       "      <td>1.000000</td>\n",
       "      <td>1.000000</td>\n",
       "      <td>1.000000</td>\n",
       "      <td>1.000000</td>\n",
       "      <td>1.000000</td>\n",
       "      <td>1.000000</td>\n",
       "      <td>1.000000</td>\n",
       "      <td>1.000000</td>\n",
       "      <td>1.000000</td>\n",
       "      <td>10.000000</td>\n",
       "    </tr>\n",
       "  </tbody>\n",
       "</table>\n",
       "</div>"
      ],
      "text/plain": [
       "         A1_Score    A2_Score    A3_Score    A4_Score    A5_Score    A6_Score  \\\n",
       "count  704.000000  704.000000  704.000000  704.000000  704.000000  704.000000   \n",
       "mean     0.721591    0.453125    0.457386    0.495739    0.498580    0.284091   \n",
       "std      0.448535    0.498152    0.498535    0.500337    0.500353    0.451301   \n",
       "min      0.000000    0.000000    0.000000    0.000000    0.000000    0.000000   \n",
       "25%      0.000000    0.000000    0.000000    0.000000    0.000000    0.000000   \n",
       "50%      1.000000    0.000000    0.000000    0.000000    0.000000    0.000000   \n",
       "75%      1.000000    1.000000    1.000000    1.000000    1.000000    1.000000   \n",
       "max      1.000000    1.000000    1.000000    1.000000    1.000000    1.000000   \n",
       "\n",
       "         A7_Score    A8_Score    A9_Score   A10_Score      result  \n",
       "count  704.000000  704.000000  704.000000  704.000000  704.000000  \n",
       "mean     0.417614    0.649148    0.323864    0.573864    4.875000  \n",
       "std      0.493516    0.477576    0.468281    0.494866    2.501493  \n",
       "min      0.000000    0.000000    0.000000    0.000000    0.000000  \n",
       "25%      0.000000    0.000000    0.000000    0.000000    3.000000  \n",
       "50%      0.000000    1.000000    0.000000    1.000000    4.000000  \n",
       "75%      1.000000    1.000000    1.000000    1.000000    7.000000  \n",
       "max      1.000000    1.000000    1.000000    1.000000   10.000000  "
      ]
     },
     "execution_count": 7,
     "metadata": {},
     "output_type": "execute_result"
    }
   ],
   "source": [
    "df.describe()"
   ]
  },
  {
   "cell_type": "code",
   "execution_count": 8,
   "id": "0e730691",
   "metadata": {
    "scrolled": true
   },
   "outputs": [
    {
     "name": "stdout",
     "output_type": "stream",
     "text": [
      "Gender  m    367\n",
      "f    337\n",
      "Name: gender, dtype: int64\n"
     ]
    }
   ],
   "source": [
    "# Value counts of variables\n",
    "print(\"Gender \",df['gender'].value_counts())\n",
    "\n"
   ]
  },
  {
   "cell_type": "code",
   "execution_count": 9,
   "id": "fc09afc5",
   "metadata": {},
   "outputs": [
    {
     "name": "stdout",
     "output_type": "stream",
     "text": [
      "Ethnicity  White-European       233\n",
      "Asian                123\n",
      "?                     95\n",
      "'Middle Eastern '     92\n",
      "Black                 43\n",
      "'South Asian'         36\n",
      "Others                30\n",
      "Latino                20\n",
      "Hispanic              13\n",
      "Pasifika              12\n",
      "Turkish                6\n",
      "others                 1\n",
      "Name: ethnicity, dtype: int64\n"
     ]
    }
   ],
   "source": [
    "print(\"Ethnicity \",df['ethnicity'].value_counts())\n"
   ]
  },
  {
   "cell_type": "code",
   "execution_count": 10,
   "id": "c73571a5",
   "metadata": {},
   "outputs": [
    {
     "name": "stdout",
     "output_type": "stream",
     "text": [
      "Jundice  no     635\n",
      "yes     69\n",
      "Name: jundice, dtype: int64\n"
     ]
    }
   ],
   "source": [
    "print(\"Jundice \",df['jundice'].value_counts())\n"
   ]
  },
  {
   "cell_type": "code",
   "execution_count": 11,
   "id": "6240ce9c",
   "metadata": {},
   "outputs": [
    {
     "name": "stdout",
     "output_type": "stream",
     "text": [
      "Austim  no     613\n",
      "yes     91\n",
      "Name: austim, dtype: int64\n"
     ]
    }
   ],
   "source": [
    "print(\"Austim \",df['austim'].value_counts())\n"
   ]
  },
  {
   "cell_type": "code",
   "execution_count": 12,
   "id": "1e9f9b9d",
   "metadata": {},
   "outputs": [
    {
     "name": "stdout",
     "output_type": "stream",
     "text": [
      "Country  'United States'           113\n",
      "'United Arab Emirates'     82\n",
      "'New Zealand'              81\n",
      "India                      81\n",
      "'United Kingdom'           77\n",
      "                         ... \n",
      "China                       1\n",
      "Chile                       1\n",
      "Lebanon                     1\n",
      "Burundi                     1\n",
      "Cyprus                      1\n",
      "Name: contry_of_res, Length: 67, dtype: int64\n"
     ]
    }
   ],
   "source": [
    "print(\"Country \",df['contry_of_res'].value_counts())\n"
   ]
  },
  {
   "cell_type": "code",
   "execution_count": 13,
   "id": "d137be19",
   "metadata": {},
   "outputs": [
    {
     "name": "stdout",
     "output_type": "stream",
     "text": [
      "used_app_before no     692\n",
      "yes     12\n",
      "Name: used_app_before, dtype: int64\n"
     ]
    }
   ],
   "source": [
    "print(\"used_app_before\",df['used_app_before'].value_counts())\n"
   ]
  },
  {
   "cell_type": "code",
   "execution_count": 14,
   "id": "21daccc4",
   "metadata": {},
   "outputs": [
    {
     "name": "stdout",
     "output_type": "stream",
     "text": [
      "Result 4     131\n",
      "3     110\n",
      "5      83\n",
      "2      74\n",
      "6      70\n",
      "7      57\n",
      "8      55\n",
      "9      47\n",
      "1      33\n",
      "10     30\n",
      "0      14\n",
      "Name: result, dtype: int64\n"
     ]
    }
   ],
   "source": [
    "print(\"Result\",df['result'].value_counts())\n"
   ]
  },
  {
   "cell_type": "code",
   "execution_count": 15,
   "id": "4f2e9614",
   "metadata": {},
   "outputs": [
    {
     "name": "stdout",
     "output_type": "stream",
     "text": [
      "Age Desc '18 and more'    704\n",
      "Name: age_desc, dtype: int64\n"
     ]
    }
   ],
   "source": [
    "print(\"Age Desc\",df['age_desc'].value_counts())\n"
   ]
  },
  {
   "cell_type": "code",
   "execution_count": 16,
   "id": "39ec5147",
   "metadata": {},
   "outputs": [
    {
     "name": "stdout",
     "output_type": "stream",
     "text": [
      "Relation Self                          522\n",
      "?                              95\n",
      "Parent                         50\n",
      "Relative                       28\n",
      "Others                          5\n",
      "'Health care professional'      4\n",
      "Name: relation, dtype: int64\n"
     ]
    }
   ],
   "source": [
    "print(\"Relation\",df['relation'].value_counts())\n"
   ]
  },
  {
   "cell_type": "code",
   "execution_count": 17,
   "id": "55655cde",
   "metadata": {},
   "outputs": [
    {
     "name": "stdout",
     "output_type": "stream",
     "text": [
      "ASD NO     515\n",
      "YES    189\n",
      "Name: Class/ASD, dtype: int64\n"
     ]
    }
   ],
   "source": [
    "print(\"ASD\",df['Class/ASD'].value_counts())\n"
   ]
  },
  {
   "cell_type": "code",
   "execution_count": 18,
   "id": "7e178fba",
   "metadata": {},
   "outputs": [
    {
     "name": "stdout",
     "output_type": "stream",
     "text": [
      "Age 21     49\n",
      "20     46\n",
      "23     37\n",
      "22     37\n",
      "19     35\n",
      "24     34\n",
      "27     31\n",
      "18     31\n",
      "30     30\n",
      "26     28\n",
      "25     27\n",
      "29     27\n",
      "28     24\n",
      "31     21\n",
      "17     18\n",
      "32     18\n",
      "35     17\n",
      "37     17\n",
      "33     16\n",
      "40     16\n",
      "42     15\n",
      "36     13\n",
      "38     12\n",
      "34     12\n",
      "43     11\n",
      "44     10\n",
      "47      8\n",
      "39      7\n",
      "55      6\n",
      "53      6\n",
      "46      6\n",
      "50      5\n",
      "52      5\n",
      "48      4\n",
      "45      4\n",
      "49      3\n",
      "41      3\n",
      "54      2\n",
      "58      2\n",
      "?       2\n",
      "56      2\n",
      "61      2\n",
      "59      1\n",
      "64      1\n",
      "60      1\n",
      "383     1\n",
      "51      1\n",
      "Name: age, dtype: int64\n"
     ]
    }
   ],
   "source": [
    "print(\"Age\",df['age'].value_counts())\n"
   ]
  },
  {
   "cell_type": "code",
   "execution_count": 19,
   "id": "242b7c12",
   "metadata": {},
   "outputs": [],
   "source": [
    "df['ethnicity'] = df['ethnicity'].replace(\"?\", \"White-European\")\n"
   ]
  },
  {
   "cell_type": "code",
   "execution_count": 20,
   "id": "3a95a272",
   "metadata": {},
   "outputs": [],
   "source": [
    "df['relation'] = df['relation'].replace(\"?\", \"Self\")\n"
   ]
  },
  {
   "cell_type": "code",
   "execution_count": 21,
   "id": "57805dcb",
   "metadata": {},
   "outputs": [],
   "source": [
    "df['age'] = df['age'].replace(\"?\", int(0))"
   ]
  },
  {
   "cell_type": "code",
   "execution_count": 22,
   "id": "1516eeb6",
   "metadata": {},
   "outputs": [],
   "source": [
    "# Calculate the average age\n",
    "df['age'] = df['age'].astype(\"int64\")\n"
   ]
  },
  {
   "cell_type": "code",
   "execution_count": 23,
   "id": "b40d5bef",
   "metadata": {},
   "outputs": [
    {
     "data": {
      "text/plain": [
       "29.613636363636363"
      ]
     },
     "execution_count": 23,
     "metadata": {},
     "output_type": "execute_result"
    }
   ],
   "source": [
    "average_age = df['age'].mean()\n",
    "average_age"
   ]
  },
  {
   "cell_type": "code",
   "execution_count": 24,
   "id": "e02ab387",
   "metadata": {},
   "outputs": [],
   "source": [
    "df['age'] = df['age'].replace(0, int(average_age))\n",
    "df['age'] = df['age'].replace(383, int(average_age))"
   ]
  },
  {
   "cell_type": "markdown",
   "id": "22334657",
   "metadata": {},
   "source": [
    "# Applying Random Forest Classifier to Identify the Most Important Features"
   ]
  },
  {
   "cell_type": "markdown",
   "id": "ccb70e2f",
   "metadata": {},
   "source": [
    "### Separate the features (X) and target (y)\n"
   ]
  },
  {
   "cell_type": "code",
   "execution_count": 25,
   "id": "9529d10a",
   "metadata": {},
   "outputs": [],
   "source": [
    "X = df.drop(columns=['Class/ASD'])\n",
    "y = df['Class/ASD']\n"
   ]
  },
  {
   "cell_type": "code",
   "execution_count": null,
   "id": "88265687",
   "metadata": {},
   "outputs": [],
   "source": []
  },
  {
   "cell_type": "markdown",
   "id": "38d54829",
   "metadata": {},
   "source": [
    "## Encode Categorical Features \n"
   ]
  },
  {
   "cell_type": "code",
   "execution_count": 26,
   "id": "e9a57ab4",
   "metadata": {},
   "outputs": [],
   "source": [
    "categorical_cols = X.select_dtypes(include='object').columns\n",
    "\n",
    "for col in categorical_cols:\n",
    "    encoder = LabelEncoder()\n",
    "    X[col] = encoder.fit_transform(X[col])\n",
    "\n"
   ]
  },
  {
   "cell_type": "markdown",
   "id": "5c602972",
   "metadata": {},
   "source": [
    "# Encode target variable"
   ]
  },
  {
   "cell_type": "code",
   "execution_count": 27,
   "id": "db397acd",
   "metadata": {},
   "outputs": [
    {
     "data": {
      "text/plain": [
       "array([0, 0, 1, 0, 0, 1, 0, 0, 0, 1, 1, 0, 0, 0, 0, 0, 0, 0, 0, 0, 0, 0,\n",
       "       0, 0, 0, 0, 0, 0, 0, 0, 0, 1, 0, 1, 1, 0, 0, 0, 1, 1, 1, 0, 0, 0,\n",
       "       1, 1, 0, 0, 0, 0, 0, 1, 0, 1, 1, 1, 1, 1, 0, 0, 1, 1, 0, 0, 1, 0,\n",
       "       0, 0, 0, 0, 0, 0, 0, 0, 0, 1, 0, 1, 0, 0, 0, 0, 1, 0, 0, 0, 1, 0,\n",
       "       0, 1, 0, 0, 0, 1, 1, 0, 0, 0, 0, 0, 0, 0, 0, 0, 0, 0, 0, 1, 0, 0,\n",
       "       1, 0, 0, 0, 1, 1, 1, 0, 1, 1, 1, 1, 0, 1, 1, 1, 0, 0, 0, 0, 0, 0,\n",
       "       0, 0, 0, 0, 0, 0, 0, 0, 0, 0, 0, 0, 0, 1, 1, 1, 1, 1, 0, 1, 0, 0,\n",
       "       0, 0, 0, 0, 0, 0, 0, 0, 0, 0, 0, 0, 0, 0, 0, 1, 0, 0, 0, 0, 0, 0,\n",
       "       1, 0, 0, 0, 0, 0, 0, 0, 0, 1, 0, 0, 1, 0, 1, 0, 0, 0, 0, 1, 1, 1,\n",
       "       1, 0, 1, 0, 1, 1, 0, 1, 1, 1, 0, 1, 1, 0, 0, 0, 0, 1, 0, 0, 1, 0,\n",
       "       0, 0, 0, 1, 1, 0, 1, 0, 0, 1, 0, 0, 0, 0, 0, 0, 0, 0, 0, 0, 0, 0,\n",
       "       0, 0, 0, 0, 0, 0, 0, 1, 0, 0, 0, 0, 0, 0, 0, 0, 0, 0, 0, 0, 0, 0,\n",
       "       0, 1, 0, 0, 0, 0, 1, 1, 1, 0, 0, 0, 0, 0, 1, 0, 0, 1, 1, 1, 0, 0,\n",
       "       0, 0, 0, 1, 1, 1, 0, 0, 0, 1, 1, 1, 0, 1, 0, 1, 0, 0, 0, 0, 1, 1,\n",
       "       1, 1, 0, 0, 1, 1, 0, 0, 0, 0, 0, 0, 0, 0, 1, 0, 0, 0, 0, 0, 0, 0,\n",
       "       0, 1, 1, 0, 0, 0, 0, 0, 0, 0, 0, 0, 0, 0, 0, 0, 0, 0, 1, 0, 1, 0,\n",
       "       0, 0, 0, 0, 0, 0, 0, 0, 0, 0, 0, 0, 0, 0, 0, 0, 0, 0, 0, 0, 0, 0,\n",
       "       0, 0, 0, 0, 0, 0, 0, 0, 1, 0, 0, 0, 0, 0, 0, 0, 0, 0, 0, 0, 0, 0,\n",
       "       0, 0, 0, 0, 0, 0, 0, 0, 0, 0, 0, 1, 0, 0, 0, 0, 0, 0, 1, 0, 0, 0,\n",
       "       0, 0, 0, 0, 0, 0, 0, 0, 1, 0, 0, 0, 1, 1, 0, 1, 0, 0, 0, 0, 0, 0,\n",
       "       0, 0, 0, 1, 1, 0, 1, 0, 1, 0, 0, 0, 1, 0, 0, 0, 0, 0, 1, 0, 0, 0,\n",
       "       0, 0, 1, 0, 1, 0, 1, 0, 0, 1, 0, 0, 0, 0, 0, 0, 0, 0, 0, 0, 0, 0,\n",
       "       0, 0, 1, 1, 0, 0, 1, 0, 0, 1, 0, 0, 0, 1, 1, 0, 0, 1, 0, 0, 1, 0,\n",
       "       0, 0, 1, 0, 1, 1, 0, 0, 1, 1, 0, 1, 0, 0, 1, 1, 1, 0, 1, 0, 0, 0,\n",
       "       1, 0, 0, 0, 0, 1, 0, 0, 0, 0, 0, 0, 1, 0, 1, 1, 1, 1, 0, 0, 0, 1,\n",
       "       0, 0, 0, 1, 1, 0, 0, 0, 1, 0, 1, 1, 0, 0, 0, 0, 0, 0, 1, 0, 0, 0,\n",
       "       0, 1, 0, 0, 1, 1, 1, 0, 0, 0, 0, 1, 1, 0, 1, 1, 1, 0, 0, 0, 1, 0,\n",
       "       0, 0, 0, 0, 0, 0, 0, 0, 0, 0, 0, 0, 0, 0, 0, 0, 0, 0, 0, 0, 0, 0,\n",
       "       0, 0, 0, 0, 0, 1, 0, 1, 0, 0, 0, 0, 0, 0, 0, 0, 0, 0, 1, 0, 0, 1,\n",
       "       0, 1, 0, 1, 0, 0, 0, 1, 0, 0, 0, 0, 0, 0, 0, 1, 1, 0, 0, 0, 0, 1,\n",
       "       1, 1, 0, 0, 0, 1, 0, 0, 0, 1, 1, 1, 1, 1, 0, 0, 0, 0, 1, 1, 1, 1,\n",
       "       0, 0, 0, 1, 0, 1, 1, 1, 0, 0, 1, 0, 1, 0, 1, 0, 1, 1, 0, 1, 0, 1])"
      ]
     },
     "execution_count": 27,
     "metadata": {},
     "output_type": "execute_result"
    }
   ],
   "source": [
    "# Encode target variable\n",
    "encoder = LabelEncoder()\n",
    "y = encoder.fit_transform(y)\n",
    "y"
   ]
  },
  {
   "cell_type": "markdown",
   "id": "26aee55f",
   "metadata": {},
   "source": [
    "# Apply Random Forest"
   ]
  },
  {
   "cell_type": "code",
   "execution_count": 28,
   "id": "1f287a66",
   "metadata": {},
   "outputs": [
    {
     "data": {
      "text/html": [
       "<style>#sk-container-id-1 {color: black;background-color: white;}#sk-container-id-1 pre{padding: 0;}#sk-container-id-1 div.sk-toggleable {background-color: white;}#sk-container-id-1 label.sk-toggleable__label {cursor: pointer;display: block;width: 100%;margin-bottom: 0;padding: 0.3em;box-sizing: border-box;text-align: center;}#sk-container-id-1 label.sk-toggleable__label-arrow:before {content: \"▸\";float: left;margin-right: 0.25em;color: #696969;}#sk-container-id-1 label.sk-toggleable__label-arrow:hover:before {color: black;}#sk-container-id-1 div.sk-estimator:hover label.sk-toggleable__label-arrow:before {color: black;}#sk-container-id-1 div.sk-toggleable__content {max-height: 0;max-width: 0;overflow: hidden;text-align: left;background-color: #f0f8ff;}#sk-container-id-1 div.sk-toggleable__content pre {margin: 0.2em;color: black;border-radius: 0.25em;background-color: #f0f8ff;}#sk-container-id-1 input.sk-toggleable__control:checked~div.sk-toggleable__content {max-height: 200px;max-width: 100%;overflow: auto;}#sk-container-id-1 input.sk-toggleable__control:checked~label.sk-toggleable__label-arrow:before {content: \"▾\";}#sk-container-id-1 div.sk-estimator input.sk-toggleable__control:checked~label.sk-toggleable__label {background-color: #d4ebff;}#sk-container-id-1 div.sk-label input.sk-toggleable__control:checked~label.sk-toggleable__label {background-color: #d4ebff;}#sk-container-id-1 input.sk-hidden--visually {border: 0;clip: rect(1px 1px 1px 1px);clip: rect(1px, 1px, 1px, 1px);height: 1px;margin: -1px;overflow: hidden;padding: 0;position: absolute;width: 1px;}#sk-container-id-1 div.sk-estimator {font-family: monospace;background-color: #f0f8ff;border: 1px dotted black;border-radius: 0.25em;box-sizing: border-box;margin-bottom: 0.5em;}#sk-container-id-1 div.sk-estimator:hover {background-color: #d4ebff;}#sk-container-id-1 div.sk-parallel-item::after {content: \"\";width: 100%;border-bottom: 1px solid gray;flex-grow: 1;}#sk-container-id-1 div.sk-label:hover label.sk-toggleable__label {background-color: #d4ebff;}#sk-container-id-1 div.sk-serial::before {content: \"\";position: absolute;border-left: 1px solid gray;box-sizing: border-box;top: 0;bottom: 0;left: 50%;z-index: 0;}#sk-container-id-1 div.sk-serial {display: flex;flex-direction: column;align-items: center;background-color: white;padding-right: 0.2em;padding-left: 0.2em;position: relative;}#sk-container-id-1 div.sk-item {position: relative;z-index: 1;}#sk-container-id-1 div.sk-parallel {display: flex;align-items: stretch;justify-content: center;background-color: white;position: relative;}#sk-container-id-1 div.sk-item::before, #sk-container-id-1 div.sk-parallel-item::before {content: \"\";position: absolute;border-left: 1px solid gray;box-sizing: border-box;top: 0;bottom: 0;left: 50%;z-index: -1;}#sk-container-id-1 div.sk-parallel-item {display: flex;flex-direction: column;z-index: 1;position: relative;background-color: white;}#sk-container-id-1 div.sk-parallel-item:first-child::after {align-self: flex-end;width: 50%;}#sk-container-id-1 div.sk-parallel-item:last-child::after {align-self: flex-start;width: 50%;}#sk-container-id-1 div.sk-parallel-item:only-child::after {width: 0;}#sk-container-id-1 div.sk-dashed-wrapped {border: 1px dashed gray;margin: 0 0.4em 0.5em 0.4em;box-sizing: border-box;padding-bottom: 0.4em;background-color: white;}#sk-container-id-1 div.sk-label label {font-family: monospace;font-weight: bold;display: inline-block;line-height: 1.2em;}#sk-container-id-1 div.sk-label-container {text-align: center;}#sk-container-id-1 div.sk-container {/* jupyter's `normalize.less` sets `[hidden] { display: none; }` but bootstrap.min.css set `[hidden] { display: none !important; }` so we also need the `!important` here to be able to override the default hidden behavior on the sphinx rendered scikit-learn.org. See: https://github.com/scikit-learn/scikit-learn/issues/21755 */display: inline-block !important;position: relative;}#sk-container-id-1 div.sk-text-repr-fallback {display: none;}</style><div id=\"sk-container-id-1\" class=\"sk-top-container\"><div class=\"sk-text-repr-fallback\"><pre>RandomForestClassifier()</pre><b>In a Jupyter environment, please rerun this cell to show the HTML representation or trust the notebook. <br />On GitHub, the HTML representation is unable to render, please try loading this page with nbviewer.org.</b></div><div class=\"sk-container\" hidden><div class=\"sk-item\"><div class=\"sk-estimator sk-toggleable\"><input class=\"sk-toggleable__control sk-hidden--visually\" id=\"sk-estimator-id-1\" type=\"checkbox\" checked><label for=\"sk-estimator-id-1\" class=\"sk-toggleable__label sk-toggleable__label-arrow\">RandomForestClassifier</label><div class=\"sk-toggleable__content\"><pre>RandomForestClassifier()</pre></div></div></div></div></div>"
      ],
      "text/plain": [
       "RandomForestClassifier()"
      ]
     },
     "execution_count": 28,
     "metadata": {},
     "output_type": "execute_result"
    }
   ],
   "source": [
    "model = RandomForestClassifier()\n",
    "model.fit(X, y)\n"
   ]
  },
  {
   "cell_type": "markdown",
   "id": "45ed55d5",
   "metadata": {},
   "source": [
    "## Get feature importances"
   ]
  },
  {
   "cell_type": "code",
   "execution_count": 29,
   "id": "a76b54a5",
   "metadata": {},
   "outputs": [],
   "source": [
    "# Get feature importances\n",
    "importances = model.feature_importances_\n"
   ]
  },
  {
   "cell_type": "markdown",
   "id": "c2337201",
   "metadata": {},
   "source": [
    "## Create a DataFrame to store the importance scores"
   ]
  },
  {
   "cell_type": "code",
   "execution_count": 30,
   "id": "797a57ba",
   "metadata": {},
   "outputs": [],
   "source": [
    "\n",
    "feature_importance_df = pd.DataFrame({'Feature': X.columns, 'Importance': importances})\n",
    "\n"
   ]
  },
  {
   "cell_type": "markdown",
   "id": "ccb44ca6",
   "metadata": {},
   "source": [
    "## Sort the DataFrame"
   ]
  },
  {
   "cell_type": "code",
   "execution_count": 31,
   "id": "b1aced45",
   "metadata": {},
   "outputs": [],
   "source": [
    "# Sort the DataFrame by importance scores in descending order\n",
    "feature_importance_df = feature_importance_df.sort_values('Importance', ascending=False)\n",
    "\n"
   ]
  },
  {
   "cell_type": "code",
   "execution_count": 32,
   "id": "7efce512",
   "metadata": {},
   "outputs": [],
   "source": [
    "# Print the top N most important columns\n",
    "N = 21  # Number of top important columns to display\n",
    "\n",
    "top_columns = feature_importance_df.head(N)['Feature'].tolist()\n"
   ]
  },
  {
   "cell_type": "markdown",
   "id": "b44e13c4",
   "metadata": {},
   "source": [
    "# Most Important Columns"
   ]
  },
  {
   "cell_type": "code",
   "execution_count": 33,
   "id": "d58a3dcc",
   "metadata": {},
   "outputs": [
    {
     "name": "stdout",
     "output_type": "stream",
     "text": [
      "Top 21 most important columns:\n",
      "result\n",
      "A9_Score\n",
      "A6_Score\n",
      "A5_Score\n",
      "A4_Score\n",
      "A3_Score\n",
      "A7_Score\n",
      "A10_Score\n",
      "A1_Score\n",
      "A2_Score\n",
      "contry_of_res\n",
      "ethnicity\n",
      "age\n",
      "A8_Score\n",
      "relation\n",
      "austim\n",
      "gender\n",
      "jundice\n",
      "used_app_before\n",
      "age_desc\n"
     ]
    }
   ],
   "source": [
    "print(\"Top\", N, \"most important columns:\")\n",
    "\n",
    "for column in top_columns:\n",
    "    \n",
    "    print(column)"
   ]
  },
  {
   "cell_type": "markdown",
   "id": "9fc1bca3",
   "metadata": {},
   "source": [
    "## Drop Unnecessary Columns"
   ]
  },
  {
   "cell_type": "code",
   "execution_count": 34,
   "id": "9d76cffc",
   "metadata": {},
   "outputs": [
    {
     "data": {
      "text/html": [
       "<div>\n",
       "<style scoped>\n",
       "    .dataframe tbody tr th:only-of-type {\n",
       "        vertical-align: middle;\n",
       "    }\n",
       "\n",
       "    .dataframe tbody tr th {\n",
       "        vertical-align: top;\n",
       "    }\n",
       "\n",
       "    .dataframe thead th {\n",
       "        text-align: right;\n",
       "    }\n",
       "</style>\n",
       "<table border=\"1\" class=\"dataframe\">\n",
       "  <thead>\n",
       "    <tr style=\"text-align: right;\">\n",
       "      <th></th>\n",
       "      <th>A1_Score</th>\n",
       "      <th>A2_Score</th>\n",
       "      <th>A3_Score</th>\n",
       "      <th>A4_Score</th>\n",
       "      <th>A5_Score</th>\n",
       "      <th>A6_Score</th>\n",
       "      <th>A7_Score</th>\n",
       "      <th>A8_Score</th>\n",
       "      <th>A9_Score</th>\n",
       "      <th>A10_Score</th>\n",
       "      <th>age</th>\n",
       "      <th>gender</th>\n",
       "      <th>ethnicity</th>\n",
       "      <th>jundice</th>\n",
       "      <th>austim</th>\n",
       "      <th>contry_of_res</th>\n",
       "      <th>result</th>\n",
       "      <th>relation</th>\n",
       "      <th>Class/ASD</th>\n",
       "    </tr>\n",
       "  </thead>\n",
       "  <tbody>\n",
       "    <tr>\n",
       "      <th>0</th>\n",
       "      <td>1</td>\n",
       "      <td>1</td>\n",
       "      <td>1</td>\n",
       "      <td>1</td>\n",
       "      <td>0</td>\n",
       "      <td>0</td>\n",
       "      <td>1</td>\n",
       "      <td>1</td>\n",
       "      <td>0</td>\n",
       "      <td>0</td>\n",
       "      <td>26</td>\n",
       "      <td>f</td>\n",
       "      <td>White-European</td>\n",
       "      <td>no</td>\n",
       "      <td>no</td>\n",
       "      <td>'United States'</td>\n",
       "      <td>6</td>\n",
       "      <td>Self</td>\n",
       "      <td>NO</td>\n",
       "    </tr>\n",
       "    <tr>\n",
       "      <th>1</th>\n",
       "      <td>1</td>\n",
       "      <td>1</td>\n",
       "      <td>0</td>\n",
       "      <td>1</td>\n",
       "      <td>0</td>\n",
       "      <td>0</td>\n",
       "      <td>0</td>\n",
       "      <td>1</td>\n",
       "      <td>0</td>\n",
       "      <td>1</td>\n",
       "      <td>24</td>\n",
       "      <td>m</td>\n",
       "      <td>Latino</td>\n",
       "      <td>no</td>\n",
       "      <td>yes</td>\n",
       "      <td>Brazil</td>\n",
       "      <td>5</td>\n",
       "      <td>Self</td>\n",
       "      <td>NO</td>\n",
       "    </tr>\n",
       "    <tr>\n",
       "      <th>2</th>\n",
       "      <td>1</td>\n",
       "      <td>1</td>\n",
       "      <td>0</td>\n",
       "      <td>1</td>\n",
       "      <td>1</td>\n",
       "      <td>0</td>\n",
       "      <td>1</td>\n",
       "      <td>1</td>\n",
       "      <td>1</td>\n",
       "      <td>1</td>\n",
       "      <td>27</td>\n",
       "      <td>m</td>\n",
       "      <td>Latino</td>\n",
       "      <td>yes</td>\n",
       "      <td>yes</td>\n",
       "      <td>Spain</td>\n",
       "      <td>8</td>\n",
       "      <td>Parent</td>\n",
       "      <td>YES</td>\n",
       "    </tr>\n",
       "    <tr>\n",
       "      <th>3</th>\n",
       "      <td>1</td>\n",
       "      <td>1</td>\n",
       "      <td>0</td>\n",
       "      <td>1</td>\n",
       "      <td>0</td>\n",
       "      <td>0</td>\n",
       "      <td>1</td>\n",
       "      <td>1</td>\n",
       "      <td>0</td>\n",
       "      <td>1</td>\n",
       "      <td>35</td>\n",
       "      <td>f</td>\n",
       "      <td>White-European</td>\n",
       "      <td>no</td>\n",
       "      <td>yes</td>\n",
       "      <td>'United States'</td>\n",
       "      <td>6</td>\n",
       "      <td>Self</td>\n",
       "      <td>NO</td>\n",
       "    </tr>\n",
       "    <tr>\n",
       "      <th>4</th>\n",
       "      <td>1</td>\n",
       "      <td>0</td>\n",
       "      <td>0</td>\n",
       "      <td>0</td>\n",
       "      <td>0</td>\n",
       "      <td>0</td>\n",
       "      <td>0</td>\n",
       "      <td>1</td>\n",
       "      <td>0</td>\n",
       "      <td>0</td>\n",
       "      <td>40</td>\n",
       "      <td>f</td>\n",
       "      <td>White-European</td>\n",
       "      <td>no</td>\n",
       "      <td>no</td>\n",
       "      <td>Egypt</td>\n",
       "      <td>2</td>\n",
       "      <td>Self</td>\n",
       "      <td>NO</td>\n",
       "    </tr>\n",
       "    <tr>\n",
       "      <th>...</th>\n",
       "      <td>...</td>\n",
       "      <td>...</td>\n",
       "      <td>...</td>\n",
       "      <td>...</td>\n",
       "      <td>...</td>\n",
       "      <td>...</td>\n",
       "      <td>...</td>\n",
       "      <td>...</td>\n",
       "      <td>...</td>\n",
       "      <td>...</td>\n",
       "      <td>...</td>\n",
       "      <td>...</td>\n",
       "      <td>...</td>\n",
       "      <td>...</td>\n",
       "      <td>...</td>\n",
       "      <td>...</td>\n",
       "      <td>...</td>\n",
       "      <td>...</td>\n",
       "      <td>...</td>\n",
       "    </tr>\n",
       "    <tr>\n",
       "      <th>699</th>\n",
       "      <td>0</td>\n",
       "      <td>1</td>\n",
       "      <td>0</td>\n",
       "      <td>1</td>\n",
       "      <td>1</td>\n",
       "      <td>0</td>\n",
       "      <td>1</td>\n",
       "      <td>1</td>\n",
       "      <td>1</td>\n",
       "      <td>1</td>\n",
       "      <td>25</td>\n",
       "      <td>f</td>\n",
       "      <td>White-European</td>\n",
       "      <td>no</td>\n",
       "      <td>no</td>\n",
       "      <td>Russia</td>\n",
       "      <td>7</td>\n",
       "      <td>Self</td>\n",
       "      <td>YES</td>\n",
       "    </tr>\n",
       "    <tr>\n",
       "      <th>700</th>\n",
       "      <td>1</td>\n",
       "      <td>0</td>\n",
       "      <td>0</td>\n",
       "      <td>0</td>\n",
       "      <td>0</td>\n",
       "      <td>0</td>\n",
       "      <td>0</td>\n",
       "      <td>1</td>\n",
       "      <td>0</td>\n",
       "      <td>1</td>\n",
       "      <td>34</td>\n",
       "      <td>m</td>\n",
       "      <td>Hispanic</td>\n",
       "      <td>no</td>\n",
       "      <td>no</td>\n",
       "      <td>Mexico</td>\n",
       "      <td>3</td>\n",
       "      <td>Parent</td>\n",
       "      <td>NO</td>\n",
       "    </tr>\n",
       "    <tr>\n",
       "      <th>701</th>\n",
       "      <td>1</td>\n",
       "      <td>0</td>\n",
       "      <td>1</td>\n",
       "      <td>1</td>\n",
       "      <td>1</td>\n",
       "      <td>0</td>\n",
       "      <td>1</td>\n",
       "      <td>1</td>\n",
       "      <td>0</td>\n",
       "      <td>1</td>\n",
       "      <td>24</td>\n",
       "      <td>f</td>\n",
       "      <td>White-European</td>\n",
       "      <td>no</td>\n",
       "      <td>no</td>\n",
       "      <td>Russia</td>\n",
       "      <td>7</td>\n",
       "      <td>Self</td>\n",
       "      <td>YES</td>\n",
       "    </tr>\n",
       "    <tr>\n",
       "      <th>702</th>\n",
       "      <td>1</td>\n",
       "      <td>0</td>\n",
       "      <td>0</td>\n",
       "      <td>1</td>\n",
       "      <td>1</td>\n",
       "      <td>0</td>\n",
       "      <td>1</td>\n",
       "      <td>0</td>\n",
       "      <td>1</td>\n",
       "      <td>1</td>\n",
       "      <td>35</td>\n",
       "      <td>m</td>\n",
       "      <td>'South Asian'</td>\n",
       "      <td>no</td>\n",
       "      <td>no</td>\n",
       "      <td>Pakistan</td>\n",
       "      <td>6</td>\n",
       "      <td>Self</td>\n",
       "      <td>NO</td>\n",
       "    </tr>\n",
       "    <tr>\n",
       "      <th>703</th>\n",
       "      <td>1</td>\n",
       "      <td>0</td>\n",
       "      <td>1</td>\n",
       "      <td>1</td>\n",
       "      <td>1</td>\n",
       "      <td>0</td>\n",
       "      <td>1</td>\n",
       "      <td>1</td>\n",
       "      <td>1</td>\n",
       "      <td>1</td>\n",
       "      <td>26</td>\n",
       "      <td>f</td>\n",
       "      <td>White-European</td>\n",
       "      <td>no</td>\n",
       "      <td>no</td>\n",
       "      <td>Cyprus</td>\n",
       "      <td>8</td>\n",
       "      <td>Self</td>\n",
       "      <td>YES</td>\n",
       "    </tr>\n",
       "  </tbody>\n",
       "</table>\n",
       "<p>704 rows × 19 columns</p>\n",
       "</div>"
      ],
      "text/plain": [
       "     A1_Score  A2_Score  A3_Score  A4_Score  A5_Score  A6_Score  A7_Score  \\\n",
       "0           1         1         1         1         0         0         1   \n",
       "1           1         1         0         1         0         0         0   \n",
       "2           1         1         0         1         1         0         1   \n",
       "3           1         1         0         1         0         0         1   \n",
       "4           1         0         0         0         0         0         0   \n",
       "..        ...       ...       ...       ...       ...       ...       ...   \n",
       "699         0         1         0         1         1         0         1   \n",
       "700         1         0         0         0         0         0         0   \n",
       "701         1         0         1         1         1         0         1   \n",
       "702         1         0         0         1         1         0         1   \n",
       "703         1         0         1         1         1         0         1   \n",
       "\n",
       "     A8_Score  A9_Score  A10_Score  age gender       ethnicity jundice austim  \\\n",
       "0           1         0          0   26      f  White-European      no     no   \n",
       "1           1         0          1   24      m          Latino      no    yes   \n",
       "2           1         1          1   27      m          Latino     yes    yes   \n",
       "3           1         0          1   35      f  White-European      no    yes   \n",
       "4           1         0          0   40      f  White-European      no     no   \n",
       "..        ...       ...        ...  ...    ...             ...     ...    ...   \n",
       "699         1         1          1   25      f  White-European      no     no   \n",
       "700         1         0          1   34      m        Hispanic      no     no   \n",
       "701         1         0          1   24      f  White-European      no     no   \n",
       "702         0         1          1   35      m   'South Asian'      no     no   \n",
       "703         1         1          1   26      f  White-European      no     no   \n",
       "\n",
       "       contry_of_res  result relation Class/ASD  \n",
       "0    'United States'       6     Self        NO  \n",
       "1             Brazil       5     Self        NO  \n",
       "2              Spain       8   Parent       YES  \n",
       "3    'United States'       6     Self        NO  \n",
       "4              Egypt       2     Self        NO  \n",
       "..               ...     ...      ...       ...  \n",
       "699           Russia       7     Self       YES  \n",
       "700           Mexico       3   Parent        NO  \n",
       "701           Russia       7     Self       YES  \n",
       "702         Pakistan       6     Self        NO  \n",
       "703           Cyprus       8     Self       YES  \n",
       "\n",
       "[704 rows x 19 columns]"
      ]
     },
     "execution_count": 34,
     "metadata": {},
     "output_type": "execute_result"
    }
   ],
   "source": [
    "df = df.drop(['used_app_before', 'age_desc'], axis = 1)\n",
    "df"
   ]
  },
  {
   "cell_type": "code",
   "execution_count": 35,
   "id": "29a44e15",
   "metadata": {},
   "outputs": [
    {
     "data": {
      "text/plain": [
       "A1_Score          int64\n",
       "A2_Score          int64\n",
       "A3_Score          int64\n",
       "A4_Score          int64\n",
       "A5_Score          int64\n",
       "A6_Score          int64\n",
       "A7_Score          int64\n",
       "A8_Score          int64\n",
       "A9_Score          int64\n",
       "A10_Score         int64\n",
       "age               int64\n",
       "gender           object\n",
       "ethnicity        object\n",
       "jundice          object\n",
       "austim           object\n",
       "contry_of_res    object\n",
       "result            int64\n",
       "relation         object\n",
       "Class/ASD        object\n",
       "dtype: object"
      ]
     },
     "metadata": {},
     "output_type": "display_data"
    }
   ],
   "source": [
    "display(df.dtypes)"
   ]
  },
  {
   "cell_type": "code",
   "execution_count": 36,
   "id": "849e4f6e",
   "metadata": {},
   "outputs": [
    {
     "name": "stdout",
     "output_type": "stream",
     "text": [
      "\n",
      "Ethnicity \n",
      " White-European       328\n",
      "Asian                123\n",
      "'Middle Eastern '     92\n",
      "Black                 43\n",
      "'South Asian'         36\n",
      "Others                30\n",
      "Latino                20\n",
      "Hispanic              13\n",
      "Pasifika              12\n",
      "Turkish                6\n",
      "others                 1\n",
      "Name: ethnicity, dtype: int64\n"
     ]
    }
   ],
   "source": [
    "# Value counts of variables\n",
    "print(\"\\nEthnicity \\n\",df['ethnicity'].value_counts())\n"
   ]
  },
  {
   "cell_type": "code",
   "execution_count": 37,
   "id": "11fc3b3d",
   "metadata": {},
   "outputs": [
    {
     "name": "stdout",
     "output_type": "stream",
     "text": [
      "\n",
      "Relation\n",
      " Self                          617\n",
      "Parent                         50\n",
      "Relative                       28\n",
      "Others                          5\n",
      "'Health care professional'      4\n",
      "Name: relation, dtype: int64\n"
     ]
    }
   ],
   "source": [
    "print(\"\\nRelation\\n\",df['relation'].value_counts())"
   ]
  },
  {
   "cell_type": "code",
   "execution_count": 38,
   "id": "4d863f71",
   "metadata": {},
   "outputs": [
    {
     "name": "stdout",
     "output_type": "stream",
     "text": [
      "\n",
      "Age\n",
      " 21    49\n",
      "20    46\n",
      "23    37\n",
      "22    37\n",
      "19    35\n",
      "24    34\n",
      "18    31\n",
      "27    31\n",
      "29    30\n",
      "30    30\n",
      "26    28\n",
      "25    27\n",
      "28    24\n",
      "31    21\n",
      "32    18\n",
      "17    18\n",
      "35    17\n",
      "37    17\n",
      "40    16\n",
      "33    16\n",
      "42    15\n",
      "36    13\n",
      "38    12\n",
      "34    12\n",
      "43    11\n",
      "44    10\n",
      "47     8\n",
      "39     7\n",
      "55     6\n",
      "53     6\n",
      "46     6\n",
      "52     5\n",
      "50     5\n",
      "48     4\n",
      "45     4\n",
      "49     3\n",
      "41     3\n",
      "58     2\n",
      "54     2\n",
      "56     2\n",
      "61     2\n",
      "64     1\n",
      "59     1\n",
      "60     1\n",
      "51     1\n",
      "Name: age, dtype: int64\n"
     ]
    }
   ],
   "source": [
    "print(\"\\nAge\\n\",df['age'].value_counts())"
   ]
  },
  {
   "cell_type": "markdown",
   "id": "9244bdda",
   "metadata": {},
   "source": [
    "# Data Analysis"
   ]
  },
  {
   "cell_type": "code",
   "execution_count": 39,
   "id": "69f53b70",
   "metadata": {},
   "outputs": [
    {
     "data": {
      "image/png": "[encoded data removed]",
      "text/plain": [
       "<Figure size 640x480 with 1 Axes>"
      ]
     },
     "metadata": {},
     "output_type": "display_data"
    }
   ],
   "source": [
    "# Bar plot of ASD categories\n",
    "sns.countplot(x='Class/ASD', data=df)\n",
    "plt.show()\n",
    "\n"
   ]
  },
  {
   "cell_type": "code",
   "execution_count": 40,
   "id": "e0a30f52",
   "metadata": {},
   "outputs": [
    {
     "data": {
      "image/png": "[encoded data removed]",
      "text/plain": [
       "<Figure size 640x480 with 1 Axes>"
      ]
     },
     "metadata": {},
     "output_type": "display_data"
    }
   ],
   "source": [
    "# Histogram of age distribution\n",
    "sns.histplot(x='age', data=df)\n",
    "plt.show()\n",
    "\n"
   ]
  },
  {
   "cell_type": "code",
   "execution_count": 41,
   "id": "c8e66ef5",
   "metadata": {},
   "outputs": [
    {
     "data": {
      "image/png": "[encoded data removed]",
      "text/plain": [
       "<Figure size 640x480 with 1 Axes>"
      ]
     },
     "metadata": {},
     "output_type": "display_data"
    }
   ],
   "source": [
    "# Bar plot of gender distribution\n",
    "sns.countplot(x='gender', data=df)\n",
    "plt.show()\n",
    "\n"
   ]
  },
  {
   "cell_type": "code",
   "execution_count": 42,
   "id": "ee403ca5",
   "metadata": {},
   "outputs": [
    {
     "data": {
      "image/png": "[encoded data removed]",
      "text/plain": [
       "<Figure size 640x480 with 1 Axes>"
      ]
     },
     "metadata": {},
     "output_type": "display_data"
    }
   ],
   "source": [
    "# Box plot of age distribution by ASD category\n",
    "sns.boxplot(x='Class/ASD', y='age', data=df)\n",
    "plt.show()"
   ]
  },
  {
   "cell_type": "code",
   "execution_count": 43,
   "id": "3801361f",
   "metadata": {},
   "outputs": [
    {
     "data": {
      "image/png": "[encoded data removed]",
      "text/plain": [
       "<Figure size 640x480 with 1 Axes>"
      ]
     },
     "metadata": {},
     "output_type": "display_data"
    }
   ],
   "source": [
    "# Count the number of samples from each ethnicity\n",
    "df['ethnicity'].value_counts()\n",
    "\n",
    "# Bar plot of ethnicity distribution\n",
    "sns.countplot(x='ethnicity', data=df)\n",
    "plt.xticks(rotation=45)\n",
    "plt.show()"
   ]
  },
  {
   "cell_type": "code",
   "execution_count": 44,
   "id": "7abc1d79",
   "metadata": {},
   "outputs": [
    {
     "data": {
      "image/png": "[encoded data removed]",
      "text/plain": [
       "<Figure size 640x480 with 1 Axes>"
      ]
     },
     "metadata": {},
     "output_type": "display_data"
    }
   ],
   "source": [
    "# Count the different types of relationships\n",
    "df['relation'].value_counts()\n",
    "\n",
    "# Bar plot of relationship types\n",
    "sns.countplot(x='relation', data=df)\n",
    "plt.xticks(rotation=45)\n",
    "plt.show()"
   ]
  },
  {
   "cell_type": "code",
   "execution_count": 45,
   "id": "0dbf0813",
   "metadata": {},
   "outputs": [
    {
     "data": {
      "image/png": "[encoded data removed]",
      "text/plain": [
       "<Figure size 640x480 with 1 Axes>"
      ]
     },
     "metadata": {},
     "output_type": "display_data"
    }
   ],
   "source": [
    "# Create a countplot of gender distribution by ASD category\n",
    "sns.countplot(x='Class/ASD', hue='gender', data=df)\n",
    "plt.show()"
   ]
  },
  {
   "cell_type": "code",
   "execution_count": 46,
   "id": "7d70165b",
   "metadata": {},
   "outputs": [
    {
     "name": "stdout",
     "output_type": "stream",
     "text": [
      "Class/ASD                    NO  YES\n",
      "relation                            \n",
      "'Health care professional'    3    1\n",
      "Others                        4    1\n",
      "Parent                       38   12\n",
      "Relative                     19    9\n",
      "Self                        451  166\n"
     ]
    }
   ],
   "source": [
    "# Create a crosstab of relationship type and ASD category\n",
    "relation_asd_crosstab = pd.crosstab(df['relation'], df['Class/ASD'])\n",
    "\n",
    "# Display the crosstab\n",
    "print(relation_asd_crosstab)"
   ]
  },
  {
   "cell_type": "code",
   "execution_count": 47,
   "id": "3c2ac058",
   "metadata": {},
   "outputs": [
    {
     "data": {
      "image/png": "[encoded data removed]",
      "text/plain": [
       "<Figure size 640x480 with 1 Axes>"
      ]
     },
     "metadata": {},
     "output_type": "display_data"
    }
   ],
   "source": [
    "# Create a box plot of result by ASD category\n",
    "sns.boxplot(x='Class/ASD', y='result', data=df)\n",
    "plt.show()"
   ]
  },
  {
   "cell_type": "markdown",
   "id": "0ae57ef2",
   "metadata": {},
   "source": [
    "# Applying Naive Bayes for Prediction\n",
    "\n",
    " * Naive Bayes is a simple and popular algorithm used in machine learning for classification tasks. It is based on Bayes'   theorem, which calculates the probability of an event based on prior knowledge.\n",
    "\n",
    "* The Naive Bayes algorithm assumes that all features (or attributes) in the dataset are independent of each other, hence the term \"naive.\" This assumption simplifies the calculation process and makes the algorithm computationally efficient."
   ]
  },
  {
   "cell_type": "code",
   "execution_count": 74,
   "id": "292c1437",
   "metadata": {},
   "outputs": [],
   "source": [
    "X = df.drop(columns=['Class/ASD'])\n",
    "y = df['Class/ASD']\n",
    "\n",
    "categorical_cols = X.select_dtypes(include='object').columns\n",
    "\n",
    "for col in categorical_cols:\n",
    "    encoder = LabelEncoder()\n",
    "    X[col] = encoder.fit_transform(X[col])\n",
    "    \n",
    "# Encode target variable\n",
    "encoder = LabelEncoder()\n",
    "y = encoder.fit_transform(y)\n",
    "y\n",
    "\n",
    "# Split the data into training and testing sets\n",
    "X_train, X_test, y_train, y_test = train_test_split(X, y, test_size=0.2, random_state=42)\n",
    "\n",
    "\n",
    "# Create the GaussianNB model\n",
    "model = GaussianNB()"
   ]
  },
  {
   "cell_type": "code",
   "execution_count": 75,
   "id": "ade0dea8",
   "metadata": {},
   "outputs": [
    {
     "data": {
      "text/html": [
       "<style>#sk-container-id-5 {color: black;background-color: white;}#sk-container-id-5 pre{padding: 0;}#sk-container-id-5 div.sk-toggleable {background-color: white;}#sk-container-id-5 label.sk-toggleable__label {cursor: pointer;display: block;width: 100%;margin-bottom: 0;padding: 0.3em;box-sizing: border-box;text-align: center;}#sk-container-id-5 label.sk-toggleable__label-arrow:before {content: \"▸\";float: left;margin-right: 0.25em;color: #696969;}#sk-container-id-5 label.sk-toggleable__label-arrow:hover:before {color: black;}#sk-container-id-5 div.sk-estimator:hover label.sk-toggleable__label-arrow:before {color: black;}#sk-container-id-5 div.sk-toggleable__content {max-height: 0;max-width: 0;overflow: hidden;text-align: left;background-color: #f0f8ff;}#sk-container-id-5 div.sk-toggleable__content pre {margin: 0.2em;color: black;border-radius: 0.25em;background-color: #f0f8ff;}#sk-container-id-5 input.sk-toggleable__control:checked~div.sk-toggleable__content {max-height: 200px;max-width: 100%;overflow: auto;}#sk-container-id-5 input.sk-toggleable__control:checked~label.sk-toggleable__label-arrow:before {content: \"▾\";}#sk-container-id-5 div.sk-estimator input.sk-toggleable__control:checked~label.sk-toggleable__label {background-color: #d4ebff;}#sk-container-id-5 div.sk-label input.sk-toggleable__control:checked~label.sk-toggleable__label {background-color: #d4ebff;}#sk-container-id-5 input.sk-hidden--visually {border: 0;clip: rect(1px 1px 1px 1px);clip: rect(1px, 1px, 1px, 1px);height: 1px;margin: -1px;overflow: hidden;padding: 0;position: absolute;width: 1px;}#sk-container-id-5 div.sk-estimator {font-family: monospace;background-color: #f0f8ff;border: 1px dotted black;border-radius: 0.25em;box-sizing: border-box;margin-bottom: 0.5em;}#sk-container-id-5 div.sk-estimator:hover {background-color: #d4ebff;}#sk-container-id-5 div.sk-parallel-item::after {content: \"\";width: 100%;border-bottom: 1px solid gray;flex-grow: 1;}#sk-container-id-5 div.sk-label:hover label.sk-toggleable__label {background-color: #d4ebff;}#sk-container-id-5 div.sk-serial::before {content: \"\";position: absolute;border-left: 1px solid gray;box-sizing: border-box;top: 0;bottom: 0;left: 50%;z-index: 0;}#sk-container-id-5 div.sk-serial {display: flex;flex-direction: column;align-items: center;background-color: white;padding-right: 0.2em;padding-left: 0.2em;position: relative;}#sk-container-id-5 div.sk-item {position: relative;z-index: 1;}#sk-container-id-5 div.sk-parallel {display: flex;align-items: stretch;justify-content: center;background-color: white;position: relative;}#sk-container-id-5 div.sk-item::before, #sk-container-id-5 div.sk-parallel-item::before {content: \"\";position: absolute;border-left: 1px solid gray;box-sizing: border-box;top: 0;bottom: 0;left: 50%;z-index: -1;}#sk-container-id-5 div.sk-parallel-item {display: flex;flex-direction: column;z-index: 1;position: relative;background-color: white;}#sk-container-id-5 div.sk-parallel-item:first-child::after {align-self: flex-end;width: 50%;}#sk-container-id-5 div.sk-parallel-item:last-child::after {align-self: flex-start;width: 50%;}#sk-container-id-5 div.sk-parallel-item:only-child::after {width: 0;}#sk-container-id-5 div.sk-dashed-wrapped {border: 1px dashed gray;margin: 0 0.4em 0.5em 0.4em;box-sizing: border-box;padding-bottom: 0.4em;background-color: white;}#sk-container-id-5 div.sk-label label {font-family: monospace;font-weight: bold;display: inline-block;line-height: 1.2em;}#sk-container-id-5 div.sk-label-container {text-align: center;}#sk-container-id-5 div.sk-container {/* jupyter's `normalize.less` sets `[hidden] { display: none; }` but bootstrap.min.css set `[hidden] { display: none !important; }` so we also need the `!important` here to be able to override the default hidden behavior on the sphinx rendered scikit-learn.org. See: https://github.com/scikit-learn/scikit-learn/issues/21755 */display: inline-block !important;position: relative;}#sk-container-id-5 div.sk-text-repr-fallback {display: none;}</style><div id=\"sk-container-id-5\" class=\"sk-top-container\"><div class=\"sk-text-repr-fallback\"><pre>GaussianNB()</pre><b>In a Jupyter environment, please rerun this cell to show the HTML representation or trust the notebook. <br />On GitHub, the HTML representation is unable to render, please try loading this page with nbviewer.org.</b></div><div class=\"sk-container\" hidden><div class=\"sk-item\"><div class=\"sk-estimator sk-toggleable\"><input class=\"sk-toggleable__control sk-hidden--visually\" id=\"sk-estimator-id-5\" type=\"checkbox\" checked><label for=\"sk-estimator-id-5\" class=\"sk-toggleable__label sk-toggleable__label-arrow\">GaussianNB</label><div class=\"sk-toggleable__content\"><pre>GaussianNB()</pre></div></div></div></div></div>"
      ],
      "text/plain": [
       "GaussianNB()"
      ]
     },
     "execution_count": 75,
     "metadata": {},
     "output_type": "execute_result"
    }
   ],
   "source": [
    "# Train the model\n",
    "model.fit(X_train, y_train)"
   ]
  },
  {
   "cell_type": "code",
   "execution_count": 76,
   "id": "f770825e",
   "metadata": {},
   "outputs": [],
   "source": [
    "# Make predictions on the test set\n",
    "y_pred = model.predict(X_test)\n"
   ]
  },
  {
   "cell_type": "markdown",
   "id": "adaa6e70",
   "metadata": {},
   "source": [
    "# Accuracy of Naive Bayes Model"
   ]
  },
  {
   "cell_type": "code",
   "execution_count": 77,
   "id": "4f08d792",
   "metadata": {},
   "outputs": [
    {
     "name": "stdout",
     "output_type": "stream",
     "text": [
      "Accuracy: 0.9858156028368794\n"
     ]
    }
   ],
   "source": [
    "# Calculate accuracy\n",
    "accuracy = accuracy_score(y_test, y_pred)\n",
    "print('Accuracy:', accuracy)"
   ]
  },
  {
   "cell_type": "markdown",
   "id": "49264781",
   "metadata": {},
   "source": [
    "* Precision: How many of the predicted positive cases were actually positive? (measures accuracy of positive predictions)\n",
    "\n",
    "* Recall: How many of the actual positive cases were correctly predicted? (measures sensitivity or true positive rate)\n",
    "\n",
    "* F1-score: A combination of precision and recall, it represents a balanced measure of accuracy for both positive and negative cases.\n",
    "\n",
    "* Support: The number of instances (or data points) in each class.\n",
    "\n",
    "* Macro Avg: The average of precision, recall, and F1-score calculated independently for each class, without considering class imbalance.\n",
    "\n",
    "* Weighted Avg: The average of precision, recall, and F1-score calculated by considering the class imbalance, giving more weight to the larger class."
   ]
  },
  {
   "cell_type": "code",
   "execution_count": 78,
   "id": "2adc2ad7",
   "metadata": {},
   "outputs": [
    {
     "name": "stdout",
     "output_type": "stream",
     "text": [
      "Classification Report:\n",
      "              precision    recall  f1-score   support\n",
      "\n",
      "           0       0.99      0.99      0.99       105\n",
      "           1       0.97      0.97      0.97        36\n",
      "\n",
      "    accuracy                           0.99       141\n",
      "   macro avg       0.98      0.98      0.98       141\n",
      "weighted avg       0.99      0.99      0.99       141\n",
      "\n"
     ]
    }
   ],
   "source": [
    "# Generate classification report\n",
    "print('Classification Report:')\n",
    "print(classification_report(y_test, y_pred))\n"
   ]
  },
  {
   "cell_type": "markdown",
   "id": "14cbf6a2",
   "metadata": {},
   "source": [
    "* A confusion matrix is like a report card that shows how well a test or model guessed things, telling us how many times it was right and how many times it was wrong."
   ]
  },
  {
   "cell_type": "code",
   "execution_count": 79,
   "id": "0ad77ec5",
   "metadata": {},
   "outputs": [
    {
     "name": "stdout",
     "output_type": "stream",
     "text": [
      "Confusion Matrix:\n",
      "[[104   1]\n",
      " [  1  35]]\n"
     ]
    }
   ],
   "source": [
    "# Generate confusion matrix\n",
    "print('Confusion Matrix:')\n",
    "print(confusion_matrix(y_test, y_pred))"
   ]
  },
  {
   "cell_type": "markdown",
   "id": "c7eb73b2",
   "metadata": {},
   "source": [
    "# Test Case Naive Bayes"
   ]
  },
  {
   "cell_type": "code",
   "execution_count": 82,
   "id": "4b5af20e",
   "metadata": {},
   "outputs": [
    {
     "name": "stdout",
     "output_type": "stream",
     "text": [
      "Test Case Accuracy: 0.4\n"
     ]
    }
   ],
   "source": [
    "# Creating a test case for X_train (as provided in the previous response)\n",
    "test_case = pd.DataFrame({\n",
    "    'A1_Score': [1, 0, 1, 1, 0],\n",
    "    'A2_Score': [1, 0, 0, 1, 1],\n",
    "    'A3_Score': [1, 0, 1, 0, 0],\n",
    "    'A4_Score': [1, 0, 1, 1, 0],\n",
    "    'A5_Score': [0, 0, 1, 1, 1],\n",
    "    'A6_Score': [0, 0, 1, 0, 1],\n",
    "    'A7_Score': [0, 1, 1, 0, 0],\n",
    "    'A8_Score': [1, 1, 1, 1, 0],\n",
    "    'A9_Score': [0, 0, 1, 1, 1],\n",
    "    'A10_Score': [0, 1, 1, 1, 1],\n",
    "    'age': [43, 28, 37, 32, 52],\n",
    "    'gender': [1, 0, 0, 0, 1],\n",
    "    'ethnicity': [9, 2, 9, 3, 9],\n",
    "    'jundice': [0, 0, 0, 0, 0],\n",
    "    'austim': [0, 0, 1, 0, 0],\n",
    "    'contry_of_res': [47, 3, 9, 27, 40],\n",
    "    'result': [5, 3, 9, 7, 5],\n",
    "    'relation': [4, 4, 4, 4, 4]\n",
    "})\n",
    "\n",
    "# Assuming you have already trained your Naive Bayes model 'nb_model'\n",
    "\n",
    "# Assuming you have the actual target values for the test case in a separate DataFrame called 'y_test'\n",
    "y_test_actual = pd.DataFrame({'Class/ASD': [1, 0, 1, 0, 1]})\n",
    "\n",
    "# Predicting the target variable for the test case\n",
    "y_pred = model.predict(test_case)\n",
    "\n",
    "# Calculating the accuracy of the model\n",
    "accuracy = accuracy_score(y_test_actual, y_pred)\n",
    "\n",
    "# Printing the accuracy\n",
    "print(\"Test Case Accuracy:\", accuracy)"
   ]
  },
  {
   "cell_type": "markdown",
   "id": "ce39964f",
   "metadata": {},
   "source": [
    "# Apply K-Neighbors Classifier"
   ]
  },
  {
   "cell_type": "code",
   "execution_count": 83,
   "id": "47bafe11",
   "metadata": {},
   "outputs": [],
   "source": [
    "# Create an instance of the KNN classifier\n",
    "knn = KNeighborsClassifier(n_neighbors=5)  # You can modify the number of neighbors (k) as needed"
   ]
  },
  {
   "cell_type": "code",
   "execution_count": 84,
   "id": "24029c1f",
   "metadata": {},
   "outputs": [
    {
     "data": {
      "text/html": [
       "<style>#sk-container-id-6 {color: black;background-color: white;}#sk-container-id-6 pre{padding: 0;}#sk-container-id-6 div.sk-toggleable {background-color: white;}#sk-container-id-6 label.sk-toggleable__label {cursor: pointer;display: block;width: 100%;margin-bottom: 0;padding: 0.3em;box-sizing: border-box;text-align: center;}#sk-container-id-6 label.sk-toggleable__label-arrow:before {content: \"▸\";float: left;margin-right: 0.25em;color: #696969;}#sk-container-id-6 label.sk-toggleable__label-arrow:hover:before {color: black;}#sk-container-id-6 div.sk-estimator:hover label.sk-toggleable__label-arrow:before {color: black;}#sk-container-id-6 div.sk-toggleable__content {max-height: 0;max-width: 0;overflow: hidden;text-align: left;background-color: #f0f8ff;}#sk-container-id-6 div.sk-toggleable__content pre {margin: 0.2em;color: black;border-radius: 0.25em;background-color: #f0f8ff;}#sk-container-id-6 input.sk-toggleable__control:checked~div.sk-toggleable__content {max-height: 200px;max-width: 100%;overflow: auto;}#sk-container-id-6 input.sk-toggleable__control:checked~label.sk-toggleable__label-arrow:before {content: \"▾\";}#sk-container-id-6 div.sk-estimator input.sk-toggleable__control:checked~label.sk-toggleable__label {background-color: #d4ebff;}#sk-container-id-6 div.sk-label input.sk-toggleable__control:checked~label.sk-toggleable__label {background-color: #d4ebff;}#sk-container-id-6 input.sk-hidden--visually {border: 0;clip: rect(1px 1px 1px 1px);clip: rect(1px, 1px, 1px, 1px);height: 1px;margin: -1px;overflow: hidden;padding: 0;position: absolute;width: 1px;}#sk-container-id-6 div.sk-estimator {font-family: monospace;background-color: #f0f8ff;border: 1px dotted black;border-radius: 0.25em;box-sizing: border-box;margin-bottom: 0.5em;}#sk-container-id-6 div.sk-estimator:hover {background-color: #d4ebff;}#sk-container-id-6 div.sk-parallel-item::after {content: \"\";width: 100%;border-bottom: 1px solid gray;flex-grow: 1;}#sk-container-id-6 div.sk-label:hover label.sk-toggleable__label {background-color: #d4ebff;}#sk-container-id-6 div.sk-serial::before {content: \"\";position: absolute;border-left: 1px solid gray;box-sizing: border-box;top: 0;bottom: 0;left: 50%;z-index: 0;}#sk-container-id-6 div.sk-serial {display: flex;flex-direction: column;align-items: center;background-color: white;padding-right: 0.2em;padding-left: 0.2em;position: relative;}#sk-container-id-6 div.sk-item {position: relative;z-index: 1;}#sk-container-id-6 div.sk-parallel {display: flex;align-items: stretch;justify-content: center;background-color: white;position: relative;}#sk-container-id-6 div.sk-item::before, #sk-container-id-6 div.sk-parallel-item::before {content: \"\";position: absolute;border-left: 1px solid gray;box-sizing: border-box;top: 0;bottom: 0;left: 50%;z-index: -1;}#sk-container-id-6 div.sk-parallel-item {display: flex;flex-direction: column;z-index: 1;position: relative;background-color: white;}#sk-container-id-6 div.sk-parallel-item:first-child::after {align-self: flex-end;width: 50%;}#sk-container-id-6 div.sk-parallel-item:last-child::after {align-self: flex-start;width: 50%;}#sk-container-id-6 div.sk-parallel-item:only-child::after {width: 0;}#sk-container-id-6 div.sk-dashed-wrapped {border: 1px dashed gray;margin: 0 0.4em 0.5em 0.4em;box-sizing: border-box;padding-bottom: 0.4em;background-color: white;}#sk-container-id-6 div.sk-label label {font-family: monospace;font-weight: bold;display: inline-block;line-height: 1.2em;}#sk-container-id-6 div.sk-label-container {text-align: center;}#sk-container-id-6 div.sk-container {/* jupyter's `normalize.less` sets `[hidden] { display: none; }` but bootstrap.min.css set `[hidden] { display: none !important; }` so we also need the `!important` here to be able to override the default hidden behavior on the sphinx rendered scikit-learn.org. See: https://github.com/scikit-learn/scikit-learn/issues/21755 */display: inline-block !important;position: relative;}#sk-container-id-6 div.sk-text-repr-fallback {display: none;}</style><div id=\"sk-container-id-6\" class=\"sk-top-container\"><div class=\"sk-text-repr-fallback\"><pre>KNeighborsClassifier()</pre><b>In a Jupyter environment, please rerun this cell to show the HTML representation or trust the notebook. <br />On GitHub, the HTML representation is unable to render, please try loading this page with nbviewer.org.</b></div><div class=\"sk-container\" hidden><div class=\"sk-item\"><div class=\"sk-estimator sk-toggleable\"><input class=\"sk-toggleable__control sk-hidden--visually\" id=\"sk-estimator-id-6\" type=\"checkbox\" checked><label for=\"sk-estimator-id-6\" class=\"sk-toggleable__label sk-toggleable__label-arrow\">KNeighborsClassifier</label><div class=\"sk-toggleable__content\"><pre>KNeighborsClassifier()</pre></div></div></div></div></div>"
      ],
      "text/plain": [
       "KNeighborsClassifier()"
      ]
     },
     "execution_count": 84,
     "metadata": {},
     "output_type": "execute_result"
    }
   ],
   "source": [
    "# Train the classifier on the training data\n",
    "knn.fit(X_train, y_train)"
   ]
  },
  {
   "cell_type": "code",
   "execution_count": 86,
   "id": "e54ca703",
   "metadata": {},
   "outputs": [],
   "source": [
    "# Predict the target values for the test data\n",
    "y_pred = knn.predict(X_test)"
   ]
  },
  {
   "cell_type": "code",
   "execution_count": 87,
   "id": "df07df49",
   "metadata": {},
   "outputs": [
    {
     "name": "stdout",
     "output_type": "stream",
     "text": [
      "Accuracy: 0.9361702127659575\n",
      "Classification Report:\n",
      "              precision    recall  f1-score   support\n",
      "\n",
      "           0       0.95      0.96      0.96       105\n",
      "           1       0.89      0.86      0.87        36\n",
      "\n",
      "    accuracy                           0.94       141\n",
      "   macro avg       0.92      0.91      0.92       141\n",
      "weighted avg       0.94      0.94      0.94       141\n",
      "\n"
     ]
    }
   ],
   "source": [
    "# Evaluate the accuracy of the classifier\n",
    "accuracy = accuracy_score(y_test, y_pred)\n",
    "print(\"Accuracy:\", accuracy)\n",
    "\n",
    "# Generate classification report\n",
    "print('Classification Report:')\n",
    "print(classification_report(y_test, y_pred))"
   ]
  },
  {
   "cell_type": "markdown",
   "id": "6c838df9",
   "metadata": {},
   "source": [
    "# Test Case of KNN"
   ]
  },
  {
   "cell_type": "code",
   "execution_count": 88,
   "id": "fc020cad",
   "metadata": {},
   "outputs": [
    {
     "name": "stdout",
     "output_type": "stream",
     "text": [
      "Test Case Accuracy: 0.4\n"
     ]
    }
   ],
   "source": [
    "# Creating a test case for X_train (as provided in the previous response)\n",
    "test_case = pd.DataFrame({\n",
    "    'A1_Score': [1, 0, 1, 1, 0],\n",
    "    'A2_Score': [1, 0, 0, 1, 1],\n",
    "    'A3_Score': [1, 0, 1, 0, 0],\n",
    "    'A4_Score': [1, 0, 1, 1, 0],\n",
    "    'A5_Score': [0, 0, 1, 1, 1],\n",
    "    'A6_Score': [0, 0, 1, 0, 1],\n",
    "    'A7_Score': [0, 1, 1, 0, 0],\n",
    "    'A8_Score': [1, 1, 1, 1, 0],\n",
    "    'A9_Score': [0, 0, 1, 1, 1],\n",
    "    'A10_Score': [0, 1, 1, 1, 1],\n",
    "    'age': [43, 28, 37, 32, 52],\n",
    "    'gender': [1, 0, 0, 0, 1],\n",
    "    'ethnicity': [9, 2, 9, 3, 9],\n",
    "    'jundice': [0, 0, 0, 0, 0],\n",
    "    'austim': [0, 0, 1, 0, 0],\n",
    "    'contry_of_res': [47, 3, 9, 27, 40],\n",
    "    'result': [5, 3, 9, 7, 5],\n",
    "    'relation': [4, 4, 4, 4, 4]\n",
    "})\n",
    "\n",
    "# Assuming you have already trained your Naive Bayes model 'nb_model'\n",
    "\n",
    "# Assuming you have the actual target values for the test case in a separate DataFrame called 'y_test'\n",
    "y_test_actual = pd.DataFrame({'Class/ASD': [1, 0, 1, 0, 1]})\n",
    "\n",
    "# Predicting the target variable for the test case\n",
    "y_pred = knn.predict(test_case)\n",
    "\n",
    "# Calculating the accuracy of the model\n",
    "accuracy = accuracy_score(y_test_actual, y_pred)\n",
    "\n",
    "# Printing the accuracy\n",
    "print(\"Test Case Accuracy:\", accuracy)"
   ]
  },
  {
   "cell_type": "markdown",
   "id": "a6619c6f",
   "metadata": {},
   "source": [
    "# Apply Support Vector Machine"
   ]
  },
  {
   "cell_type": "code",
   "execution_count": 70,
   "id": "9730115e",
   "metadata": {},
   "outputs": [
    {
     "name": "stdout",
     "output_type": "stream",
     "text": [
      "SVC Accuracy: 0.9574468085106383\n",
      "Classification Report:\n",
      "              precision    recall  f1-score   support\n",
      "\n",
      "           0       0.95      0.96      0.96       105\n",
      "           1       0.89      0.86      0.87        36\n",
      "\n",
      "    accuracy                           0.94       141\n",
      "   macro avg       0.92      0.91      0.92       141\n",
      "weighted avg       0.94      0.94      0.94       141\n",
      "\n"
     ]
    }
   ],
   "source": [
    "# Create an instance of SVC classifier\n",
    "svc = SVC()\n",
    "\n",
    "# Train the SVC classifier on the training data\n",
    "svc.fit(X_train, y_train)\n",
    "\n",
    "# Predict the target values for the test data using SVC\n",
    "svc_y_pred = svc.predict(X_test)\n",
    "\n",
    "# Evaluate the accuracy of the SVC classifier\n",
    "svc_accuracy = accuracy_score(y_test, svc_y_pred)\n",
    "print(\"SVC Accuracy:\", svc_accuracy)\n",
    "\n",
    "\n",
    "# Generate classification report\n",
    "print('Classification Report:')\n",
    "print(classification_report(y_test, y_pred))"
   ]
  },
  {
   "cell_type": "markdown",
   "id": "c02f5ab5",
   "metadata": {},
   "source": [
    "# Apply Ridge Classifier"
   ]
  },
  {
   "cell_type": "code",
   "execution_count": 71,
   "id": "92214656",
   "metadata": {},
   "outputs": [
    {
     "name": "stdout",
     "output_type": "stream",
     "text": [
      "Ridge Accuracy: 0.9716312056737588\n",
      "Classification Report:\n",
      "              precision    recall  f1-score   support\n",
      "\n",
      "           0       0.95      0.96      0.96       105\n",
      "           1       0.89      0.86      0.87        36\n",
      "\n",
      "    accuracy                           0.94       141\n",
      "   macro avg       0.92      0.91      0.92       141\n",
      "weighted avg       0.94      0.94      0.94       141\n",
      "\n"
     ]
    }
   ],
   "source": [
    "ridge = RidgeClassifier()\n",
    "\n",
    "ridge.fit(X_train, y_train)\n",
    "\n",
    "ridge_y_pred = ridge.predict(X_test)\n",
    "\n",
    "ridge_accuracy = accuracy_score(y_test, ridge_y_pred)\n",
    "\n",
    "print(\"Ridge Accuracy:\", ridge_accuracy)\n",
    "\n",
    "# Generate classification report\n",
    "print('Classification Report:')\n",
    "print(classification_report(y_test, y_pred))"
   ]
  },
  {
   "cell_type": "markdown",
   "id": "a7409851",
   "metadata": {},
   "source": [
    "# Random Forest Classifier"
   ]
  },
  {
   "cell_type": "code",
   "execution_count": 60,
   "id": "15848782",
   "metadata": {},
   "outputs": [],
   "source": [
    "# # Create an instance of Random Forest classifier\n",
    "# rf_classifier = RandomForestClassifier()\n",
    "\n",
    "# # Train the Random Forest classifier on the training data\n",
    "# rf_classifier.fit(X_train, y_train)\n",
    "\n",
    "# # Predict the target values for the test data using Random Forest\n",
    "# rf_y_pred = rf_classifier.predict(X_test)\n",
    "\n",
    "# # Evaluate the accuracy of the Random Forest classifier\n",
    "# rf_accuracy = accuracy_score(y_test, rf_y_pred)\n",
    "# print(\"Random Forest Accuracy:\", rf_accuracy)"
   ]
  },
  {
   "cell_type": "markdown",
   "id": "1bb01651",
   "metadata": {},
   "source": [
    "# Decision Tree Classifier"
   ]
  },
  {
   "cell_type": "code",
   "execution_count": 61,
   "id": "12917eb1",
   "metadata": {},
   "outputs": [],
   "source": [
    "# # Create an instance of Decision Tree Classifier\n",
    "# decision_tree = DecisionTreeClassifier()\n",
    "\n",
    "# # Train the Decision Tree classifier on the training data\n",
    "# decision_tree.fit(X_train, y_train)\n",
    "\n",
    "# # Predict the target values for the test data using Decision Tree\n",
    "# dt_y_pred = decision_tree.predict(X_test)\n",
    "\n",
    "# # Evaluate the accuracy of the Decision Tree classifier\n",
    "# dt_accuracy = accuracy_score(y_test, dt_y_pred)\n",
    "# print(\"Decision Tree Accuracy:\", dt_accuracy)\n"
   ]
  },
  {
   "cell_type": "markdown",
   "id": "347f2a8c",
   "metadata": {},
   "source": [
    "# Logistic Regression Classifier "
   ]
  },
  {
   "cell_type": "code",
   "execution_count": 62,
   "id": "1d370e31",
   "metadata": {},
   "outputs": [],
   "source": [
    "# # Create an instance of Logistic Regression classifier\n",
    "# logistic_regression = LogisticRegression()\n",
    "\n",
    "# # Train the Logistic Regression classifier on the training data\n",
    "# logistic_regression.fit(X_train, y_train)\n",
    "\n",
    "# # Predict the target values for the test data using Logistic Regression\n",
    "# lr_y_pred = logistic_regression.predict(X_test)\n",
    "\n",
    "# # Evaluate the accuracy of the Logistic Regression classifier\n",
    "# lr_accuracy = accuracy_score(y_test, lr_y_pred)\n",
    "# print(\"Logistic Regression Accuracy:\", lr_accuracy)"
   ]
  },
  {
   "cell_type": "code",
   "execution_count": 63,
   "id": "7c3ed48e",
   "metadata": {},
   "outputs": [
    {
     "name": "stdout",
     "output_type": "stream",
     "text": [
      "A1_Score          int64\n",
      "A2_Score          int64\n",
      "A3_Score          int64\n",
      "A4_Score          int64\n",
      "A5_Score          int64\n",
      "A6_Score          int64\n",
      "A7_Score          int64\n",
      "A8_Score          int64\n",
      "A9_Score          int64\n",
      "A10_Score         int64\n",
      "age               int64\n",
      "gender           object\n",
      "ethnicity        object\n",
      "jundice          object\n",
      "austim           object\n",
      "contry_of_res    object\n",
      "result            int64\n",
      "relation         object\n",
      "Class/ASD        object\n",
      "dtype: object\n"
     ]
    }
   ],
   "source": [
    "print(df.dtypes)\n"
   ]
  },
  {
   "cell_type": "code",
   "execution_count": 64,
   "id": "701e1270",
   "metadata": {},
   "outputs": [
    {
     "data": {
      "image/png": "[encoded data removed]",
      "text/plain": [
       "<Figure size 640x480 with 1 Axes>"
      ]
     },
     "metadata": {},
     "output_type": "display_data"
    }
   ],
   "source": [
    "import matplotlib.pyplot as plt\n",
    "\n",
    "# Count the number of occurrences of each unique value in 'gender' column\n",
    "gender_counts = df['gender'].value_counts()\n",
    "\n",
    "# Create a bar plot\n",
    "plt.bar(gender_counts.index, gender_counts.values)\n",
    "plt.xlabel('Gender')\n",
    "plt.ylabel('Count')\n",
    "plt.title('Distribution of Gender')\n",
    "plt.show()"
   ]
  },
  {
   "cell_type": "code",
   "execution_count": 65,
   "id": "145bd852",
   "metadata": {},
   "outputs": [
    {
     "data": {
      "image/png": "[encoded data removed]",
      "text/plain": [
       "<Figure size 1200x1000 with 2 Axes>"
      ]
     },
     "metadata": {},
     "output_type": "display_data"
    }
   ],
   "source": [
    "# dataset is stored in a DataFrame called \"df\"\n",
    "numerical_columns = ['A1_Score', 'A2_Score', 'A3_Score', 'A4_Score', 'A5_Score',\n",
    "                     'A6_Score', 'A7_Score', 'A8_Score', 'A9_Score', 'A10_Score',\n",
    "                     'age', 'result']\n",
    "\n",
    "numerical_df = df[numerical_columns]\n",
    "\n",
    "# Calculate correlation matrix\n",
    "correlation_matrix = numerical_df.corr()\n",
    "\n",
    "# Create correlation plot\n",
    "sns.set(style=\"white\")\n",
    "plt.figure(figsize=(12, 10))\n",
    "sns.heatmap(correlation_matrix, annot=True, cmap='coolwarm', linewidths=0.5)\n",
    "plt.title('Correlation Matrix')\n",
    "plt.show()"
   ]
  },
  {
   "cell_type": "code",
   "execution_count": 73,
   "id": "a9b66f8d",
   "metadata": {},
   "outputs": [
    {
     "name": "stdout",
     "output_type": "stream",
     "text": [
      "     A1_Score  A2_Score  A3_Score  A4_Score  A5_Score  A6_Score  A7_Score  \\\n",
      "24          1         1         1         1         0         0         0   \n",
      "155         0         0         0         0         0         0         1   \n",
      "210         1         0         1         1         1         1         1   \n",
      "291         1         1         0         1         1         0         0   \n",
      "537         0         1         0         0         1         1         0   \n",
      "\n",
      "     A8_Score  A9_Score  A10_Score  age  gender  ethnicity  jundice  austim  \\\n",
      "24          1         0          0   43       1          9        0       0   \n",
      "155         1         0          1   28       0          2        0       0   \n",
      "210         1         1          1   37       0          9        0       1   \n",
      "291         1         1          1   32       0          3        0       0   \n",
      "537         0         1          1   52       1          9        0       0   \n",
      "\n",
      "     contry_of_res  result  relation  \n",
      "24              47       5         4  \n",
      "155              3       3         4  \n",
      "210              9       9         4  \n",
      "291             27       7         4  \n",
      "537             40       5         4  \n"
     ]
    }
   ],
   "source": [
    "print(X_train.head())"
   ]
  },
  {
   "cell_type": "code",
   "execution_count": null,
   "id": "06e3965a",
   "metadata": {},
   "outputs": [],
   "source": []
  }
 ],
 "metadata": {
  "kernelspec": {
   "display_name": "Python 3 (ipykernel)",
   "language": "python",
   "name": "python3"
  },
  "language_info": {
   "codemirror_mode": {
    "name": "ipython",
    "version": 3
   },
   "file_extension": ".py",
   "mimetype": "text/x-python",
   "name": "python",
   "nbconvert_exporter": "python",
   "pygments_lexer": "ipython3",
   "version": "3.9.16"
  }
 },
 "nbformat": 4,
 "nbformat_minor": 5
}
